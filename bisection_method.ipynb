{
  "nbformat": 4,
  "nbformat_minor": 0,
  "metadata": {
    "colab": {
      "provenance": [],
      "gpuType": "T4"
    },
    "kernelspec": {
      "name": "python3",
      "display_name": "Python 3"
    },
    "language_info": {
      "name": "python"
    },
    "accelerator": "GPU"
  },
  "cells": [
    {
      "cell_type": "code",
      "execution_count": null,
      "metadata": {
        "id": "KnqOnkOb5LrL"
      },
      "outputs": [],
      "source": [
        "import math\n",
        "import numpy as np\n",
        "import matplotlib.pyplot as plt\n"
      ]
    },
    {
      "cell_type": "code",
      "source": [
        "#def function\n",
        "def f(x):\n",
        "   return x**3 - 2*x - 1\n",
        "\n",
        "x = np.linspace(-10, 10, 100)\n",
        "\n",
        "plt.plot(x, f(x), color='blue')\n",
        "\n",
        "plt.show()"
      ],
      "metadata": {
        "colab": {
          "base_uri": "https://localhost:8080/",
          "height": 430
        },
        "id": "c-HN22f05QmV",
        "outputId": "cf683e6f-0269-40f0-cdaf-571bfad1ee8d"
      },
      "execution_count": null,
      "outputs": [
        {
          "output_type": "display_data",
          "data": {
            "text/plain": [
              "<Figure size 640x480 with 1 Axes>"
            ],
            "image/png": "[encoded data removed]"
          },
          "metadata": {}
        }
      ]
    },
    {
      "cell_type": "code",
      "source": [
        "#enter limits a and b to find root between a & b\n",
        "a = int(input(\"a = \"))\n",
        "b = int(input(\"b = \"))\n",
        "n = int(input(\"Number of iterations:\"))\n",
        "e = float(input(\"Tolerance:\"))\n"
      ],
      "metadata": {
        "colab": {
          "base_uri": "https://localhost:8080/"
        },
        "id": "1lG73ztv5YiJ",
        "outputId": "d08cdac3-bea6-45cd-bb53-a7d0b5d0be03"
      },
      "execution_count": null,
      "outputs": [
        {
          "name": "stdout",
          "output_type": "stream",
          "text": [
            "a = -7\n",
            "b = 2\n",
            "Number of iterations:100\n",
            "Tolerance:0.00001\n"
          ]
        }
      ]
    },
    {
      "cell_type": "code",
      "source": [
        "if (f(a)*f(b) >= 0):\n",
        "  print(\"You have not assumed right a and b\\n\")\n"
      ],
      "metadata": {
        "id": "GSrIvp4Q9LnC"
      },
      "execution_count": null,
      "outputs": []
    },
    {
      "cell_type": "code",
      "source": [
        "if f(a)*f(b) < 0:\n",
        "\n",
        "  for i in range(n):\n",
        "    c = (a+b)/2\n",
        "    if abs(c-a) < e and abs(c-b) < e:\n",
        "      break\n",
        "\n",
        "    if f(c)*f(a) < 0:\n",
        "       b = c\n",
        "    elif f(c)*f(b) < 0:\n",
        "        a = c\n",
        "\n",
        "print(\"Root is = \", c)"
      ],
      "metadata": {
        "colab": {
          "base_uri": "https://localhost:8080/"
        },
        "id": "PzMFVdp658GV",
        "outputId": "9e5441eb-3fc0-40ab-c764-1ae46accd565"
      },
      "execution_count": null,
      "outputs": [
        {
          "output_type": "stream",
          "name": "stdout",
          "text": [
            "Root is =  1.618027687072754\n"
          ]
        }
      ]
    },
    {
      "cell_type": "code",
      "source": [],
      "metadata": {
        "id": "6CyxPe_RAE3b"
      },
      "execution_count": null,
      "outputs": []
    },
    {
      "cell_type": "code",
      "source": [],
      "metadata": {
        "id": "P21J2Ve18SUq"
      },
      "execution_count": null,
      "outputs": []
    }
  ]
}